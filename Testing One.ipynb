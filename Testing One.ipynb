{
 "cells": [
  {
   "cell_type": "code",
   "execution_count": 1,
   "id": "80d5baf3",
   "metadata": {},
   "outputs": [
    {
     "ename": "ModuleNotFoundError",
     "evalue": "No module named 'xyzservices'",
     "output_type": "error",
     "traceback": [
      "\u001b[31m---------------------------------------------------------------------------\u001b[39m",
      "\u001b[31mModuleNotFoundError\u001b[39m                       Traceback (most recent call last)",
      "\u001b[36mCell\u001b[39m\u001b[36m \u001b[39m\u001b[32mIn[1]\u001b[39m\u001b[32m, line 9\u001b[39m\n\u001b[32m      7\u001b[39m \u001b[38;5;28;01mimport\u001b[39;00m\u001b[38;5;250m \u001b[39m\u001b[34;01mos\u001b[39;00m\n\u001b[32m      8\u001b[39m \u001b[38;5;66;03m# Import GUI package:\u001b[39;00m\n\u001b[32m----> \u001b[39m\u001b[32m9\u001b[39m \u001b[38;5;28;01mimport\u001b[39;00m\u001b[38;5;250m \u001b[39m\u001b[34;01mpanel\u001b[39;00m\u001b[38;5;250m \u001b[39m\u001b[38;5;28;01mas\u001b[39;00m\u001b[38;5;250m \u001b[39m\u001b[34;01mpn\u001b[39;00m\n",
      "\u001b[36mFile \u001b[39m\u001b[32m~\\AppData\\Roaming\\Python\\Python311\\site-packages\\panel\\__init__.py:50\u001b[39m\n\u001b[32m      1\u001b[39m \u001b[33;03m\"\"\"\u001b[39;00m\n\u001b[32m      2\u001b[39m \u001b[33;03mPanel is a high level app and dashboarding framework\u001b[39;00m\n\u001b[32m      3\u001b[39m \u001b[33;03m====================================================\u001b[39;00m\n\u001b[32m   (...)\u001b[39m\u001b[32m     46\u001b[39m \u001b[33;03mhttps://panel.holoviz.org/getting_started/index.html\u001b[39;00m\n\u001b[32m     47\u001b[39m \u001b[33;03m\"\"\"\u001b[39;00m\n\u001b[32m     48\u001b[39m \u001b[38;5;28;01mfrom\u001b[39;00m\u001b[38;5;250m \u001b[39m\u001b[34;01mparam\u001b[39;00m\u001b[38;5;250m \u001b[39m\u001b[38;5;28;01mimport\u001b[39;00m rx\n\u001b[32m---> \u001b[39m\u001b[32m50\u001b[39m \u001b[38;5;28;01mfrom\u001b[39;00m\u001b[38;5;250m \u001b[39m\u001b[34;01m.\u001b[39;00m\u001b[38;5;250m \u001b[39m\u001b[38;5;28;01mimport\u001b[39;00m layout  \u001b[38;5;66;03m# noqa\u001b[39;00m\n\u001b[32m     51\u001b[39m \u001b[38;5;28;01mfrom\u001b[39;00m\u001b[38;5;250m \u001b[39m\u001b[34;01m.\u001b[39;00m\u001b[38;5;250m \u001b[39m\u001b[38;5;28;01mimport\u001b[39;00m links  \u001b[38;5;66;03m# noqa\u001b[39;00m\n\u001b[32m     52\u001b[39m \u001b[38;5;28;01mfrom\u001b[39;00m\u001b[38;5;250m \u001b[39m\u001b[34;01m.\u001b[39;00m\u001b[38;5;250m \u001b[39m\u001b[38;5;28;01mimport\u001b[39;00m pane  \u001b[38;5;66;03m# noqa\u001b[39;00m\n",
      "\u001b[36mFile \u001b[39m\u001b[32m~\\AppData\\Roaming\\Python\\Python311\\site-packages\\panel\\layout\\__init__.py:31\u001b[39m\n\u001b[32m      1\u001b[39m \u001b[33;03m\"\"\"\u001b[39;00m\n\u001b[32m      2\u001b[39m \u001b[33;03mLayout\u001b[39;00m\n\u001b[32m      3\u001b[39m \u001b[33;03m======\u001b[39;00m\n\u001b[32m   (...)\u001b[39m\u001b[32m     29\u001b[39m \u001b[33;03mhttps://panel.holoviz.org/getting_started/index.html\u001b[39;00m\n\u001b[32m     30\u001b[39m \u001b[33;03m\"\"\"\u001b[39;00m\n\u001b[32m---> \u001b[39m\u001b[32m31\u001b[39m \u001b[38;5;28;01mfrom\u001b[39;00m\u001b[38;5;250m \u001b[39m\u001b[34;01m.\u001b[39;00m\u001b[34;01maccordion\u001b[39;00m\u001b[38;5;250m \u001b[39m\u001b[38;5;28;01mimport\u001b[39;00m Accordion  \u001b[38;5;66;03m# noqa\u001b[39;00m\n\u001b[32m     32\u001b[39m \u001b[38;5;28;01mfrom\u001b[39;00m\u001b[38;5;250m \u001b[39m\u001b[34;01m.\u001b[39;00m\u001b[34;01mbase\u001b[39;00m\u001b[38;5;250m \u001b[39m\u001b[38;5;28;01mimport\u001b[39;00m (  \u001b[38;5;66;03m# noqa\u001b[39;00m\n\u001b[32m     33\u001b[39m     Column, ListLike, ListPanel, Panel, Row, WidgetBox,\n\u001b[32m     34\u001b[39m )\n\u001b[32m     35\u001b[39m \u001b[38;5;28;01mfrom\u001b[39;00m\u001b[38;5;250m \u001b[39m\u001b[34;01m.\u001b[39;00m\u001b[34;01mcard\u001b[39;00m\u001b[38;5;250m \u001b[39m\u001b[38;5;28;01mimport\u001b[39;00m Card  \u001b[38;5;66;03m# noqa\u001b[39;00m\n",
      "\u001b[36mFile \u001b[39m\u001b[32m~\\AppData\\Roaming\\Python\\Python311\\site-packages\\panel\\layout\\accordion.py:9\u001b[39m\n\u001b[32m      3\u001b[39m \u001b[38;5;28;01mfrom\u001b[39;00m\u001b[38;5;250m \u001b[39m\u001b[34;01mtyping\u001b[39;00m\u001b[38;5;250m \u001b[39m\u001b[38;5;28;01mimport\u001b[39;00m (\n\u001b[32m      4\u001b[39m     TYPE_CHECKING, Callable, ClassVar, Mapping,\n\u001b[32m      5\u001b[39m )\n\u001b[32m      7\u001b[39m \u001b[38;5;28;01mimport\u001b[39;00m\u001b[38;5;250m \u001b[39m\u001b[34;01mparam\u001b[39;00m\n\u001b[32m----> \u001b[39m\u001b[32m9\u001b[39m \u001b[38;5;28;01mfrom\u001b[39;00m\u001b[38;5;250m \u001b[39m\u001b[34;01mbokeh\u001b[39;00m\u001b[34;01m.\u001b[39;00m\u001b[34;01mmodels\u001b[39;00m\u001b[38;5;250m \u001b[39m\u001b[38;5;28;01mimport\u001b[39;00m Column \u001b[38;5;28;01mas\u001b[39;00m BkColumn, CustomJS\n\u001b[32m     11\u001b[39m \u001b[38;5;28;01mfrom\u001b[39;00m\u001b[38;5;250m \u001b[39m\u001b[34;01m.\u001b[39;00m\u001b[34;01m.\u001b[39;00m\u001b[34;01mreactive\u001b[39;00m\u001b[38;5;250m \u001b[39m\u001b[38;5;28;01mimport\u001b[39;00m Reactive\n\u001b[32m     12\u001b[39m \u001b[38;5;28;01mfrom\u001b[39;00m\u001b[38;5;250m \u001b[39m\u001b[34;01m.\u001b[39;00m\u001b[34;01mbase\u001b[39;00m\u001b[38;5;250m \u001b[39m\u001b[38;5;28;01mimport\u001b[39;00m NamedListPanel\n",
      "\u001b[36mFile \u001b[39m\u001b[32m~\\AppData\\Roaming\\Python\\Python311\\site-packages\\bokeh\\models\\__init__.py:33\u001b[39m\n\u001b[32m     27\u001b[39m \u001b[38;5;66;03m#-----------------------------------------------------------------------------\u001b[39;00m\n\u001b[32m     28\u001b[39m \u001b[38;5;66;03m# Imports\u001b[39;00m\n\u001b[32m     29\u001b[39m \u001b[38;5;66;03m#-----------------------------------------------------------------------------\u001b[39;00m\n\u001b[32m     30\u001b[39m \n\u001b[32m     31\u001b[39m \u001b[38;5;66;03m# Bokeh imports\u001b[39;00m\n\u001b[32m     32\u001b[39m \u001b[38;5;28;01mfrom\u001b[39;00m\u001b[38;5;250m \u001b[39m\u001b[34;01m.\u001b[39;00m\u001b[34;01m.\u001b[39;00m\u001b[34;01mmodel\u001b[39;00m\u001b[38;5;250m \u001b[39m\u001b[38;5;28;01mimport\u001b[39;00m Model\n\u001b[32m---> \u001b[39m\u001b[32m33\u001b[39m \u001b[38;5;28;01mfrom\u001b[39;00m\u001b[38;5;250m \u001b[39m\u001b[34;01m.\u001b[39;00m\u001b[38;5;250m \u001b[39m\u001b[38;5;28;01mimport\u001b[39;00m (\n\u001b[32m     34\u001b[39m     annotations,\n\u001b[32m     35\u001b[39m     axes,\n\u001b[32m     36\u001b[39m     callbacks,\n\u001b[32m     37\u001b[39m     canvas,\n\u001b[32m     38\u001b[39m     comparisons,\n\u001b[32m     39\u001b[39m     coordinates,\n\u001b[32m     40\u001b[39m     css,\n\u001b[32m     41\u001b[39m     expressions,\n\u001b[32m     42\u001b[39m     filters,\n\u001b[32m     43\u001b[39m     formatters,\n\u001b[32m     44\u001b[39m     glyphs,\n\u001b[32m     45\u001b[39m     graphs,\n\u001b[32m     46\u001b[39m     grids,\n\u001b[32m     47\u001b[39m     labeling,\n\u001b[32m     48\u001b[39m     layouts,\n\u001b[32m     49\u001b[39m     map_plots,\n\u001b[32m     50\u001b[39m     mappers,\n\u001b[32m     51\u001b[39m     misc,\n\u001b[32m     52\u001b[39m     nodes,\n\u001b[32m     53\u001b[39m     plots,\n\u001b[32m     54\u001b[39m     ranges,\n\u001b[32m     55\u001b[39m     renderers,\n\u001b[32m     56\u001b[39m     scales,\n\u001b[32m     57\u001b[39m     selections,\n\u001b[32m     58\u001b[39m     selectors,\n\u001b[32m     59\u001b[39m     sources,\n\u001b[32m     60\u001b[39m     text,\n\u001b[32m     61\u001b[39m     textures,\n\u001b[32m     62\u001b[39m     tickers,\n\u001b[32m     63\u001b[39m     tiles,\n\u001b[32m     64\u001b[39m     tools,\n\u001b[32m     65\u001b[39m     transforms,\n\u001b[32m     66\u001b[39m     ui,\n\u001b[32m     67\u001b[39m     widgets,\n\u001b[32m     68\u001b[39m )\n\u001b[32m     69\u001b[39m \u001b[38;5;28;01mfrom\u001b[39;00m\u001b[38;5;250m \u001b[39m\u001b[34;01m.\u001b[39;00m\u001b[34;01mannotations\u001b[39;00m\u001b[38;5;250m \u001b[39m\u001b[38;5;28;01mimport\u001b[39;00m *\n\u001b[32m     70\u001b[39m \u001b[38;5;28;01mfrom\u001b[39;00m\u001b[38;5;250m \u001b[39m\u001b[34;01m.\u001b[39;00m\u001b[34;01maxes\u001b[39;00m\u001b[38;5;250m \u001b[39m\u001b[38;5;28;01mimport\u001b[39;00m *\n",
      "\u001b[36mFile \u001b[39m\u001b[32m~\\AppData\\Roaming\\Python\\Python311\\site-packages\\bokeh\\models\\map_plots.py:49\u001b[39m\n\u001b[32m     47\u001b[39m \u001b[38;5;28;01mfrom\u001b[39;00m\u001b[38;5;250m \u001b[39m\u001b[34;01m.\u001b[39;00m\u001b[34;01m.\u001b[39;00m\u001b[34;01mmodel\u001b[39;00m\u001b[38;5;250m \u001b[39m\u001b[38;5;28;01mimport\u001b[39;00m Model\n\u001b[32m     48\u001b[39m \u001b[38;5;28;01mfrom\u001b[39;00m\u001b[38;5;250m \u001b[39m\u001b[34;01m.\u001b[39;00m\u001b[34;01m.\u001b[39;00m\u001b[34;01mmodels\u001b[39;00m\u001b[34;01m.\u001b[39;00m\u001b[34;01mranges\u001b[39;00m\u001b[38;5;250m \u001b[39m\u001b[38;5;28;01mimport\u001b[39;00m Range1d\n\u001b[32m---> \u001b[39m\u001b[32m49\u001b[39m \u001b[38;5;28;01mfrom\u001b[39;00m\u001b[38;5;250m \u001b[39m\u001b[34;01m.\u001b[39;00m\u001b[34;01mplots\u001b[39;00m\u001b[38;5;250m \u001b[39m\u001b[38;5;28;01mimport\u001b[39;00m Plot\n\u001b[32m     51\u001b[39m \u001b[38;5;66;03m#-----------------------------------------------------------------------------\u001b[39;00m\n\u001b[32m     52\u001b[39m \u001b[38;5;66;03m# Globals and constants\u001b[39;00m\n\u001b[32m     53\u001b[39m \u001b[38;5;66;03m#-----------------------------------------------------------------------------\u001b[39;00m\n\u001b[32m     55\u001b[39m __all__ = (\n\u001b[32m     56\u001b[39m     \u001b[33m'\u001b[39m\u001b[33mGMapOptions\u001b[39m\u001b[33m'\u001b[39m,\n\u001b[32m     57\u001b[39m     \u001b[33m'\u001b[39m\u001b[33mGMapPlot\u001b[39m\u001b[33m'\u001b[39m,\n\u001b[32m     58\u001b[39m     \u001b[33m'\u001b[39m\u001b[33mMapOptions\u001b[39m\u001b[33m'\u001b[39m,\n\u001b[32m     59\u001b[39m     \u001b[33m'\u001b[39m\u001b[33mMapPlot\u001b[39m\u001b[33m'\u001b[39m,\n\u001b[32m     60\u001b[39m )\n",
      "\u001b[36mFile \u001b[39m\u001b[32m~\\AppData\\Roaming\\Python\\Python311\\site-packages\\bokeh\\models\\plots.py:33\u001b[39m\n\u001b[32m     25\u001b[39m \u001b[38;5;28;01mfrom\u001b[39;00m\u001b[38;5;250m \u001b[39m\u001b[34;01mtyping\u001b[39;00m\u001b[38;5;250m \u001b[39m\u001b[38;5;28;01mimport\u001b[39;00m (\n\u001b[32m     26\u001b[39m     Any,\n\u001b[32m     27\u001b[39m     Generator,\n\u001b[32m     28\u001b[39m     Literal,\n\u001b[32m     29\u001b[39m     overload,\n\u001b[32m     30\u001b[39m )\n\u001b[32m     32\u001b[39m \u001b[38;5;66;03m# External imports\u001b[39;00m\n\u001b[32m---> \u001b[39m\u001b[32m33\u001b[39m \u001b[38;5;28;01mimport\u001b[39;00m\u001b[38;5;250m \u001b[39m\u001b[34;01mxyzservices\u001b[39;00m\n\u001b[32m     35\u001b[39m \u001b[38;5;66;03m# Bokeh imports\u001b[39;00m\n\u001b[32m     36\u001b[39m \u001b[38;5;28;01mfrom\u001b[39;00m\u001b[38;5;250m \u001b[39m\u001b[34;01m.\u001b[39;00m\u001b[34;01m.\u001b[39;00m\u001b[34;01mcore\u001b[39;00m\u001b[34;01m.\u001b[39;00m\u001b[34;01menums\u001b[39;00m\u001b[38;5;250m \u001b[39m\u001b[38;5;28;01mimport\u001b[39;00m (\n\u001b[32m     37\u001b[39m     Location,\n\u001b[32m     38\u001b[39m     OutputBackend,\n\u001b[32m   (...)\u001b[39m\u001b[32m     41\u001b[39m     ResetPolicy,\n\u001b[32m     42\u001b[39m )\n",
      "\u001b[31mModuleNotFoundError\u001b[39m: No module named 'xyzservices'"
     ]
    }
   ],
   "source": [
    "# Import OpenAI package into Python:\n",
    "import openai\n",
    "# Import Azure OpenAI package into Python:\n",
    "from openai import AzureOpenAI\n",
    "# Import environment packages:\n",
    "from dotenv import load_dotenv\n",
    "import os\n",
    "# Import GUI package:\n",
    "import panel as pn\n",
    "\n",
    "\n"
   ]
  },
  {
   "cell_type": "code",
   "execution_count": null,
   "id": "288247e5",
   "metadata": {},
   "outputs": [],
   "source": [
    "# Load .env file and get API key, API base and deployment name:\n",
    "load_dotenv()  \n",
    "api_key = os.getenv(\"AZURE_OPENAI_API_KEY\")\n",
    "deployment_name = os.getenv(\"AZURE_OPENAI_CHAT_DEPLOYMENT_NAME\")\n",
    "api_base = os.getenv(\"AZURE_OPENAI_ENDPOINT\")\n",
    "api_version = os.getenv(\"AZURE_OPENAI_API_VERSION\")\n",
    "\n",
    "client = AzureOpenAI(\n",
    "    azure_endpoint = api_base,\n",
    "    api_key=api_key,\n",
    "    api_version=api_version\n",
    ")\n",
    "\n",
    "# Load single PDF:\n",
    "from langchain.document_loaders import PyPDFLoader\n",
    "loader = PyPDFLoader(\"data/barbie.pdf\")\n",
    "\n",
    "# Split content into chunks.\n",
    "# Import a splitter module called RecursiveCharacterTextSplitter:\n",
    "from langchain.text_splitter import RecursiveCharacterTextSplitter\n",
    "# Instantiate the splitter:\n",
    "text_splitter = RecursiveCharacterTextSplitter(chunk_size=500, chunk_overlap=0)\n",
    "# Do the splitting:\n",
    "splits = text_splitter.split_documents(loader.load())\n",
    "\n",
    "# Embed and store splits in Chroma database.\n",
    "# Import the Chroma and embeddings modules:\n",
    "from langchain.vectorstores import Chroma\n",
    "# from langchain.embeddings import OpenAIEmbeddings\n",
    "# Instantiate the Chroma vector store with arguments:\n",
    "vectorstore = Chroma.from_documents(\n",
    "    documents=splits,\n",
    "    embedding=embedding_model\n",
    ")\n",
    "# Instantiate a retriever based on the vector store:\n",
    "retriever = vectorstore.as_retriever()\n",
    "\n",
    "# Instantiate a prompt.\n",
    "# We will use a standard RAG prompt downloaded from Langsmith:\n",
    "# https://smith.langchain.com/hub/rlm/rag-prompt\n",
    "from langchain import hub\n",
    "rag_prompt = hub.pull(\"rlm/rag-prompt\")\n",
    "\n",
    "llm = AzureOpenAI(\n",
    "    model=\"gpt-4o-mini\",\n",
    "    deployment_name=\"gpt-4o-mini\",\n",
    "    api_key=api_key,\n",
    "    azure_endpoint=azure_endpoint,\n",
    "    api_version=api_version,\n",
    "    temperature=0\n",
    ")\n",
    "\n",
    "# Instantiate RAG chain:\n",
    "from langchain.schema.runnable import RunnablePassthrough\n",
    "rag_chain = (\n",
    "    {\"context\": retriever, \"question\": RunnablePassthrough()}\n",
    "    | rag_prompt\n",
    "    | llm\n",
    ")\n",
    "\n",
    "# Get completion:\n",
    "# REPLACE '_____________________' WITH THE NEW QUERY\n",
    "# completion = rag_chain.invoke(\"_____________________\")\n",
    "completion = rag_chain.invoke(\"Who are the stars of the 2023 Barbie movie?\")\n",
    "print(completion.content)\n"
   ]
  }
 ],
 "metadata": {
  "kernelspec": {
   "display_name": "Python 3",
   "language": "python",
   "name": "python3"
  },
  "language_info": {
   "codemirror_mode": {
    "name": "ipython",
    "version": 3
   },
   "file_extension": ".py",
   "mimetype": "text/x-python",
   "name": "python",
   "nbconvert_exporter": "python",
   "pygments_lexer": "ipython3",
   "version": "3.11.12"
  }
 },
 "nbformat": 4,
 "nbformat_minor": 5
}
